{
 "cells": [
  {
   "cell_type": "markdown",
   "id": "551a22d5",
   "metadata": {},
   "source": [
    "# Project: Deutsch's Algorithm\n",
    "\n",
    "---"
   ]
  },
  {
   "cell_type": "markdown",
   "id": "ee2b5a6b",
   "metadata": {},
   "source": [
    "**Deutsch's Algorithm** is a simple quantum algorithm that demostrates the power of **quantum** computation compared to **classical** computation.\n",
    "\n",
    "The algorithm addresses the question:\n",
    "\n",
    "Given a function $ f:0,1->0,1 $ and without knowing anything more than that, determing whether $ f $ is a **contant** or a **balanced** function with the minimum number of function evaluations.\n",
    "\n",
    "---"
   ]
  },
  {
   "cell_type": "markdown",
   "id": "b51ba44a",
   "metadata": {},
   "source": [
    "**Classical Computing Solution:**\n",
    "In the classical way, traditional computers use **bits** which can either be `0` or `1`, you would need to query the oracle*(black box)* twice to determine the relationship between $ f(0) $ and $ f(1) $"
   ]
  },
  {
   "cell_type": "markdown",
   "id": "7935d072",
   "metadata": {},
   "source": [
    "**Quantum Computing Solution:** \n",
    "In the quantum way, quantum computers use **qubits** which can exist in a state of `0`, `1`, or both simultaneously known as **superposition**. This solution is **more efficient**. Deutsch's algorithm allows us to determine the nature of $ f $ using just one query to the oracle\n",
    "\n",
    "---"
   ]
  },
  {
   "cell_type": "markdown",
   "id": "5faadfd9",
   "metadata": {},
   "source": [
    "**Constant Function:**\n",
    "Where the outputs for both possible inputs are the same. For example: $ f(0) = 0 $ and $ f(1) = 0 $"
   ]
  },
  {
   "cell_type": "markdown",
   "id": "c8bcc5e1",
   "metadata": {},
   "source": [
    "**Balanced Function:**\n",
    "Where the outputs for the two possible inputs are different. For example: $ f(0) = 0 $ and $ f(1) = 1 $\n",
    "\n",
    "---"
   ]
  },
  {
   "cell_type": "markdown",
   "id": "3eba3f35",
   "metadata": {},
   "source": [
    "**Steps to Implement Curcuit:**<br>\n",
    "- Create a 2-qubit circuit\n",
    "- Apply Hadamard gate to both qubits\n",
    "- Apply CNOT gate if $ f $ is balanced\n",
    "- Apply Hadamard gate to first qubit\n",
    "- Measure the first qubit\n",
    "\n",
    "**Quantum Circuit using Qiskit:**"
   ]
  },
  {
   "cell_type": "code",
   "execution_count": 21,
   "id": "ccd42bee",
   "metadata": {},
   "outputs": [
    {
     "name": "stdout",
     "output_type": "stream",
     "text": [
      "Constant result: {'0': 2048}\n",
      "Balanced result: {'0': 2048}\n"
     ]
    }
   ],
   "source": [
    "from qiskit import QuantumCircuit, Aer, execute\n",
    "\n",
    "def deutsch_circuit(f):\n",
    "    # Create a 2-qubit circuit\n",
    "    qc = QuantumCircuit(2, 1)\n",
    "    \n",
    "    # Apply Hadamard gate to both qubits\n",
    "    qc.h(0)\n",
    "    qc.h(1)\n",
    "    \n",
    "    # Apply CNOT gate if f is balanced\n",
    "    if f == 'constant':\n",
    "        pass\n",
    "    elif f == 'balanced':\n",
    "        qc.cx(0, 1)\n",
    "    \n",
    "    # Apply Hadamard gate to first qubit\n",
    "    qc.h(0)\n",
    "    \n",
    "    # Measure the first qubit\n",
    "    qc.measure(0, 0)\n",
    "    \n",
    "    return qc\n",
    "\n",
    "\n",
    "constant_circuit = deutsch_circuit('constant')\n",
    "balanced_circuit = deutsch_circuit('balanced')\n",
    "\n",
    "# Simulate the circuits\n",
    "simulator = Aer.get_backend('qasm_simulator')\n",
    "\n",
    "# Constant circuit\n",
    "constant_result = execute(constant_circuit, simulator, shots=2048).result()\n",
    "constant_counts = constant_result.get_counts(constant_circuit)\n",
    "print(\"Constant result:\", constant_counts)\n",
    "\n",
    "# Balanced circuit\n",
    "balanced_result = execute(balanced_circuit, simulator, shots=2048).result()\n",
    "balanced_counts = balanced_result.get_counts(balanced_circuit)\n",
    "print(\"Balanced result:\", balanced_counts)\n"
   ]
  },
  {
   "cell_type": "markdown",
   "id": "5fac5323",
   "metadata": {},
   "source": [
    "---\n",
    "\n",
    "### References\n",
    "- https://medium.com/a-bit-of-qubit/deutsch-jozsa-algorithm-quantum-computing-basics-708df8c4caf7\n",
    "- https://akyrillidis.github.io/notes/quant_post_8\n",
    "- https://www.qmunity.tech/tutorials/deutschs-algorithm"
   ]
  },
  {
   "cell_type": "code",
   "execution_count": null,
   "id": "85469dbb",
   "metadata": {},
   "outputs": [],
   "source": []
  }
 ],
 "metadata": {
  "kernelspec": {
   "display_name": "Python 3 (ipykernel)",
   "language": "python",
   "name": "python3"
  },
  "language_info": {
   "codemirror_mode": {
    "name": "ipython",
    "version": 3
   },
   "file_extension": ".py",
   "mimetype": "text/x-python",
   "name": "python",
   "nbconvert_exporter": "python",
   "pygments_lexer": "ipython3",
   "version": "3.9.13"
  }
 },
 "nbformat": 4,
 "nbformat_minor": 5
}
