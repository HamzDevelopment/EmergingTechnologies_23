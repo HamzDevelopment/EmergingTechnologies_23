{
 "cells": [
  {
   "cell_type": "markdown",
   "id": "551a22d5",
   "metadata": {},
   "source": [
    "# Project: Deutsch's Algorithm\n",
    "\n",
    "---"
   ]
  },
  {
   "cell_type": "markdown",
   "id": "ee2b5a6b",
   "metadata": {},
   "source": [
    "**Deutsch's Algorithm** is a simple quantum algorithm that demostrates the power of **quantum** computation's abilities compared to **classical** computation. It's designed to solve a specific computational problem more efficiently using quantum principles."
   ]
  },
  {
   "cell_type": "markdown",
   "id": "ff2811e8",
   "metadata": {},
   "source": [
    "## Quantum Computing Overview\n",
    "\n",
    "Quantum computing is a groundbreaking approach to computation that leverages the principles of quantum mechanics. It differs significantly from classical computing in several key aspects:\n",
    "\n",
    "**- Qubits:** Quantum computers use quantum bits, or qubits, as the basic unit of information. Unlike classical bits, which are either 0 or 1, qubits can exist in a state of superposition.\n",
    "\n",
    "**- Superposition:** This quantum property allows qubits to represent both 0 and 1 simultaneously, offering the potential for parallel computation on a scale that is unattainable by classical computers.\n",
    "\n",
    "**- Quantum Entanglement:** Another unique aspect of quantum computing is entanglement, where the state of one qubit is directly related to the state of another, regardless of the distance between them.\n",
    "\n",
    "**- Quantum Gates:** In quantum computing, operations are performed using quantum gates. These gates manipulate the state of qubits and are the building blocks of quantum circuits. Unlike classical logic gates, quantum gates can create superposition and entanglement.\n",
    "\n",
    "**- Quantum Circuits:** A quantum circuit is a sequence of quantum gates, designed to perform a specific computation. The complexity and potential of a quantum circuit exceed that of traditional computing circuits."
   ]
  },
  {
   "cell_type": "markdown",
   "id": "4ffa8eb6",
   "metadata": {},
   "source": [
    "### Introduction to the Deutsch's Algorithm Problem: A Quantum Solution\n",
    "\n",
    "The algorithm addresses the question:\n",
    "\n",
    "Given a function $ f:{0,1}->{0,1} $ and without knowing anything more than that, determing whether $ f $ is a **contant** or a **balanced** function with the minimum number of function evaluations."
   ]
  },
  {
   "cell_type": "markdown",
   "id": "b51ba44a",
   "metadata": {},
   "source": [
    "### Classical Computing Approach\n",
    "In the classical way, traditional computers use **bits** which can either be `0` or `1`, To determine the nature of $ f $ you would need to query the oracle*(a black box function)* twice to determine the relationship between $ f(0) $ and $ f(1) $"
   ]
  },
  {
   "cell_type": "markdown",
   "id": "7935d072",
   "metadata": {},
   "source": [
    "### Quantum Computing Solution\n",
    "In the quantum way, quantum computers use **qubits** which can exist in a state of `0`, `1`, or both simultaneously known as **superposition**. This solution is **more efficient**. Deutsch's algorithm allows us to determine the nature of $ f $ using just one query to the oracle"
   ]
  },
  {
   "cell_type": "markdown",
   "id": "5faadfd9",
   "metadata": {},
   "source": [
    "### Understanding Constant and Balanced Function\n",
    "\n",
    "**Constant Function:**\n",
    "Where the outputs for both possible inputs are the same. For example: $ f(0) = 0 $ and $ f(1) = 0 $\n",
    "\n",
    "**Balanced Function:**\n",
    "Where the outputs for the two possible inputs are different. For example: $ f(0) = 0 $ and $ f(1) = 1 $"
   ]
  },
  {
   "cell_type": "markdown",
   "id": "3eba3f35",
   "metadata": {},
   "source": [
    "### Steps to Implementing Circuit\n",
    "- **Create a 2-qubit circuit:** This forms the foundation of our quantum computation\n",
    "- **Apply Hadamard gate to both qubits:** This puts each qubit into a state of superposition\n",
    "- **Apply CNOT gate if $ f $ is balanced:** This is used to entangle the qubits based on the nature of $ f $\n",
    "- **Apply Hadamard gate to first qubit:** This step prepares the qubit for measurement\n",
    "- **Measure the first qubit:** The result of this measurement helps us understand the nature of $ f $\n",
    "\n",
    "### Quantum Circuit using Qiskit"
   ]
  },
  {
   "cell_type": "code",
   "execution_count": 3,
   "id": "ccd42bee",
   "metadata": {},
   "outputs": [
    {
     "name": "stdout",
     "output_type": "stream",
     "text": [
      "Constant Function Result: {'0': 2048}\n",
      "Balanced Function Result: {'0': 2048}\n"
     ]
    }
   ],
   "source": [
    "from qiskit import QuantumCircuit, Aer, execute\n",
    "\n",
    "def deutsch_circuit(f):\n",
    "    # Create a 2-qubit circuit\n",
    "    qc = QuantumCircuit(2, 1)\n",
    "    \n",
    "    # Apply Hadamard gate to both qubits\n",
    "    qc.h(0)\n",
    "    qc.h(1)\n",
    "    \n",
    "    # Apply CNOT gate if f is balanced\n",
    "    if f == 'constant':\n",
    "        pass\n",
    "    elif f == 'balanced':\n",
    "        qc.cx(0, 1)\n",
    "    \n",
    "    # Apply Hadamard gate to first qubit\n",
    "    qc.h(0)\n",
    "    \n",
    "    # Measure the first qubit\n",
    "    qc.measure(0, 0)\n",
    "    \n",
    "    return qc\n",
    "\n",
    "# Creating circuits for constant and balanced functions\n",
    "constant_circuit = deutsch_circuit('constant')\n",
    "balanced_circuit = deutsch_circuit('balanced')\n",
    "\n",
    "# Simulating the circuits\n",
    "simulator = Aer.get_backend('qasm_simulator')\n",
    "constant_result = execute(constant_circuit, simulator, shots=2048).result()\n",
    "balanced_result = execute(balanced_circuit, simulator, shots=2048).result()\n",
    "\n",
    "# Displaying the results\n",
    "print(\"Constant Function Result:\", constant_result.get_counts(constant_circuit))\n",
    "print(\"Balanced Function Result:\", balanced_result.get_counts(balanced_circuit))"
   ]
  },
  {
   "cell_type": "markdown",
   "id": "292c866f",
   "metadata": {},
   "source": [
    "### Conclusion and Observations\n",
    "\n",
    "In this notebook, we've implemented Deutsch's Algorithm using Qiskit. The results demonstrate the differences in computational approaches between classical and quantum computing. While classical methods require multiple evaluations to determine the nature of 𝑓, Deutsch's Algorithm achieves this with a single quantum query, showcasing the efficiency and potential of quantum computing."
   ]
  },
  {
   "cell_type": "markdown",
   "id": "5fac5323",
   "metadata": {},
   "source": [
    "---\n",
    "\n",
    "### References\n",
    "- [Deutsch-Jozsa Algorithm: Quantum Computing Basics](https://medium.com/a-bit-of-qubit/deutsch-jozsa-algorithm-quantum-computing-basics-708df8c4caf7)\n",
    "- [Introduction to quantum computing: The Deutsch algorithm.](https://akyrillidis.github.io/notes/quant_post_8)\n",
    "- [Deutsch's Algorithm](https://www.qmunity.tech/tutorials/deutschs-algorithm)\n",
    "- [What is quantum computing? | AWS](https://aws.amazon.com/what-is/quantum-computing/#:~:text=superposition%20of%20states.-,What%20are%20the%20principles%20of%20quantum%20computing%3F,superposition%2C%20entanglement%2C%20and%20decoherence)\n",
    "- [What is quantum computing? | IBM](https://www.ibm.com/topics/quantum-computing)"
   ]
  }
 ],
 "metadata": {
  "kernelspec": {
   "display_name": "Python 3 (ipykernel)",
   "language": "python",
   "name": "python3"
  },
  "language_info": {
   "codemirror_mode": {
    "name": "ipython",
    "version": 3
   },
   "file_extension": ".py",
   "mimetype": "text/x-python",
   "name": "python",
   "nbconvert_exporter": "python",
   "pygments_lexer": "ipython3",
   "version": "3.9.13"
  }
 },
 "nbformat": 4,
 "nbformat_minor": 5
}
