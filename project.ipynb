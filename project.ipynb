{
 "cells": [
  {
   "cell_type": "markdown",
   "id": "551a22d5",
   "metadata": {},
   "source": [
    "# Project: Deutsch's Algorithm\n",
    "\n",
    "---"
   ]
  },
  {
   "cell_type": "markdown",
   "id": "ee2b5a6b",
   "metadata": {},
   "source": [
    "#### Deutsch's Algorithm** is a simple quantum algorithm that demostrates the power of quantum computation compared to classical computation.\n",
    "\n",
    "The algorithm addresses the question:\n",
    "\n",
    "Given a function $ f:0,1->0,1 $ and without knowing anything more than that, determing whether $ f $ is a **contant** or a **balanced** function with the minimum number of function evaluations."
   ]
  },
  {
   "cell_type": "markdown",
   "id": "0a87277b",
   "metadata": {},
   "source": [
    "**Classical Computing Solution**\n",
    "In the classical way, traditional computers use **bits** which can either be `0` or `1`, you would need to query the oracle(black box) twice to determine the relationship between $ f(0) $ and $ f(1) $"
   ]
  },
  {
   "cell_type": "markdown",
   "id": "d8354b87",
   "metadata": {},
   "source": [
    "---\n",
    "\n",
    "## References\n",
    "- https://medium.com/a-bit-of-qubit/deutsch-jozsa-algorithm-quantum-computing-basics-708df8c4caf7\n",
    "- https://akyrillidis.github.io/notes/quant_post_8"
   ]
  },
  {
   "cell_type": "code",
   "execution_count": null,
   "id": "eb6ddbd2",
   "metadata": {},
   "outputs": [],
   "source": []
  }
 ],
 "metadata": {
  "kernelspec": {
   "display_name": "Python 3 (ipykernel)",
   "language": "python",
   "name": "python3"
  },
  "language_info": {
   "codemirror_mode": {
    "name": "ipython",
    "version": 3
   },
   "file_extension": ".py",
   "mimetype": "text/x-python",
   "name": "python",
   "nbconvert_exporter": "python",
   "pygments_lexer": "ipython3",
   "version": "3.9.13"
  }
 },
 "nbformat": 4,
 "nbformat_minor": 5
}
