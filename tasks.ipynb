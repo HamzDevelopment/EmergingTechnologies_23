{
 "cells": [
  {
   "cell_type": "markdown",
   "id": "2880ab56",
   "metadata": {},
   "source": [
    "# Tasks\n",
    "***"
   ]
  },
  {
   "cell_type": "markdown",
   "id": "5340b4f8",
   "metadata": {},
   "source": [
    "## Collatz Conjecture\n",
    "\n",
    "The *Collatz Conjecture* is a famous unsolved problem in mathematics. The problem is to prove that if you start with any positive integer `x` and repeatedly apply the function $ f(x) $ as seen below, you always get stuck in the repeating sequence `1,4,2,1,4,2,...`"
   ]
  },
  {
   "attachments": {
    "image.png": {
     "image/png": "[encoded data removed]"
    }
   },
   "cell_type": "markdown",
   "id": "c348fe23",
   "metadata": {},
   "source": [
    "![image.png](attachment:image.png)"
   ]
  },
  {
   "cell_type": "markdown",
   "id": "eeec4f7c",
   "metadata": {},
   "source": [
    "Verify using Python that the conjecture is **true** for the first 10,000 positive integers."
   ]
  },
  {
   "cell_type": "code",
   "execution_count": 5,
   "id": "0f96763e",
   "metadata": {},
   "outputs": [
    {
     "name": "stdout",
     "output_type": "stream",
     "text": [
      "Collatz Conjecture Verified:  True\n"
     ]
    }
   ],
   "source": [
    "def collatz_conjecture(num):\n",
    "    while num != 1:\n",
    "        if num % 2 == 0: # num is even\n",
    "            num = num // 2\n",
    "        else:\n",
    "            num = 3 * num + 1 # num is odd\n",
    "    return True # return true is conjecture is satisfied\n",
    "\n",
    "def verify_collatz(limit):\n",
    "    for i in range(1, limit + 1):\n",
    "        if not collatz_conjecture(i):\n",
    "            return False\n",
    "    return True\n",
    "\n",
    "\n",
    "# Perform the verification for the first 10,000 positive integers\n",
    "result = verify_collatz(10000)\n",
    "\n",
    "# Print out the result\n",
    "print(\"Collatz Conjecture Verified: \", result);"
   ]
  },
  {
   "cell_type": "markdown",
   "id": "d9ac45f1",
   "metadata": {},
   "source": [
    "---\n",
    "\n",
    "## Approximating Square Root with Newton's Method\n",
    "\n",
    "This task is to approximate the square root of a floating point number `x` without using the power operator or an external package. Using *Newton's Method* we can attempt this. This method will iteratively improve the guess until the difference between consecutive guesses falls below a predefined threshold."
   ]
  },
  {
   "cell_type": "code",
   "execution_count": 5,
   "id": "a5fa0b6b",
   "metadata": {},
   "outputs": [
    {
     "name": "stdout",
     "output_type": "stream",
     "text": [
      "Newtons Method: \n",
      "Square Root of 20.0 is 4.472137791286727\n"
     ]
    }
   ],
   "source": [
    "def sqrt(x):\n",
    "    z0 = x / 2.0 # Initial Guess\n",
    "    previous_guess = z0\n",
    "    threshold = 0.01 \n",
    "    \n",
    "    while True:\n",
    "        # Newton's Method Formula\n",
    "        next_guess = previous_guess - (previous_guess * previous_guess - x) / (2 * previous_guess)\n",
    "        \n",
    "        # Absolute difference between the previous guess and next guess is less than the threshold.\n",
    "        if abs(previous_guess - next_guess) < threshold:\n",
    "            return next_guess\n",
    "        \n",
    "        previous_guess = next_guess\n",
    "        \n",
    "x = 20.0\n",
    "result = sqrt(x)\n",
    "print(f\"Newtons Method: \\nSquare Root of {x} is {result}\")"
   ]
  },
  {
   "cell_type": "code",
   "execution_count": 6,
   "id": "55cca508",
   "metadata": {},
   "outputs": [
    {
     "name": "stdout",
     "output_type": "stream",
     "text": [
      "Package Method: \n",
      "Square Root of 20.0 is 4.47213595499958\n"
     ]
    }
   ],
   "source": [
    "import math\n",
    "\n",
    "def sqrt(x):\n",
    "    result = math.sqrt(x)\n",
    "    return result\n",
    "\n",
    "x = 20.0\n",
    "result = sqrt(x)\n",
    "print(f\"Package Method: \\nSquare Root of {x} is {result}\")"
   ]
  },
  {
   "cell_type": "markdown",
   "id": "358d0241",
   "metadata": {},
   "source": [
    "*As you can see that the result is very similar*"
   ]
  },
  {
   "cell_type": "code",
   "execution_count": null,
   "id": "c7deea82",
   "metadata": {},
   "outputs": [],
   "source": []
  }
 ],
 "metadata": {
  "kernelspec": {
   "display_name": "Python 3 (ipykernel)",
   "language": "python",
   "name": "python3"
  },
  "language_info": {
   "codemirror_mode": {
    "name": "ipython",
    "version": 3
   },
   "file_extension": ".py",
   "mimetype": "text/x-python",
   "name": "python",
   "nbconvert_exporter": "python",
   "pygments_lexer": "ipython3",
   "version": "3.9.13"
  }
 },
 "nbformat": 4,
 "nbformat_minor": 5
}
