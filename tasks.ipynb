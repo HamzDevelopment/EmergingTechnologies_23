{
 "cells": [
  {
   "cell_type": "markdown",
   "id": "2880ab56",
   "metadata": {},
   "source": [
    "# Tasks\n",
    "***"
   ]
  },
  {
   "cell_type": "markdown",
   "id": "5340b4f8",
   "metadata": {},
   "source": [
    "## 1: Collatz Conjecture\n",
    "\n",
    "The *Collatz Conjecture* is a famous unsolved problem in mathematics. The problem is to prove that if you start with any positive integer `x` and repeatedly apply the function $ f(x) $ as seen below, you always get stuck in the repeating sequence `1,4,2,1,4,2,...`\n",
    "\n",
    "The process is as follows:\n",
    "- If the number is even, divide it by 2.\n",
    "- If the number is odd, triple it and add one.\n",
    "\n",
    "No matter the starting number, this sequence will always reach 1, and then enter a repeating cycle of `1, 4, 2`."
   ]
  },
  {
   "attachments": {
    "image.png": {
     "image/png": "[encoded data removed]"
    }
   },
   "cell_type": "markdown",
   "id": "c348fe23",
   "metadata": {},
   "source": [
    "![image.png](attachment:image.png)"
   ]
  },
  {
   "cell_type": "markdown",
   "id": "eeec4f7c",
   "metadata": {},
   "source": [
    "Verify using Python that the conjecture is **true** for the first 10,000 positive integers."
   ]
  },
  {
   "cell_type": "code",
   "execution_count": 5,
   "id": "0f96763e",
   "metadata": {},
   "outputs": [
    {
     "name": "stdout",
     "output_type": "stream",
     "text": [
      "Collatz Conjecture Verified:  True\n"
     ]
    }
   ],
   "source": [
    "def collatz_conjecture(num):\n",
    "    # Continue the process until num is 1\n",
    "    while num != 1:\n",
    "        if num % 2 == 0: # Check num is even\n",
    "            num = num // 2\n",
    "        else: # If num is odd\n",
    "            num = 3 * num + 1\n",
    "    return True # return true is conjecture is satisfied (1)\n",
    "\n",
    "# Verify the Collatz Conjecture for numbers up to a given limit\n",
    "def verify_collatz(limit):\n",
    "    # Iterate through each number from 1 to limit\n",
    "    for i in range(1, limit + 1):\n",
    "        if not collatz_conjecture(i):\n",
    "            return False\n",
    "    return True\n",
    "\n",
    "\n",
    "# Perform the verification for the first 10,000 positive integers\n",
    "result = verify_collatz(10000)\n",
    "\n",
    "# Print out the result\n",
    "print(\"Collatz Conjecture Verified: \", result);"
   ]
  },
  {
   "cell_type": "markdown",
   "id": "6454353d",
   "metadata": {},
   "source": [
    "### Conclusion\n",
    "\n",
    "By running the verification function, we have checked whether the Collatz Conjecture holds true for the first 10,000 positive integers. According to our Python simulation, the conjecture seems to be valid for this range of numbers. However, it's important to remember that this does not proove the conjecture, as there are many numbers, this remains an unsolved problem in mathematics.\n"
   ]
  },
  {
   "cell_type": "markdown",
   "id": "d9ac45f1",
   "metadata": {},
   "source": [
    "---\n",
    "\n",
    "## 2: Approximating Square Root with Newton's Method\n",
    "\n",
    "This task is to approximate the square root of a floating point number `x` without using the power operator or an external package. Using *Newton's Method* we can attempt this. This method will iteratively improve the guess until the difference between consecutive guesses falls below a predefined threshold.\n",
    "\n",
    "### Newtons Method"
   ]
  },
  {
   "cell_type": "code",
   "execution_count": 1,
   "id": "a5fa0b6b",
   "metadata": {},
   "outputs": [
    {
     "name": "stdout",
     "output_type": "stream",
     "text": [
      "Newtons Method: \n",
      "Square Root of 20.0 is 4.472137791286727\n"
     ]
    }
   ],
   "source": [
    "def sqrt(x):\n",
    "    z0 = x / 2.0 # Initial Guess\n",
    "    previous_guess = z0\n",
    "    threshold = 0.01 # Threshold for accuracy\n",
    "    \n",
    "    while True:\n",
    "        # Newton's Method Formula for finding square root\n",
    "        next_guess = previous_guess - (previous_guess * previous_guess - x) / (2 * previous_guess)\n",
    "        \n",
    "        # Absolute difference between the previous guess and next guess is less than the threshold.\n",
    "        if abs(previous_guess - next_guess) < threshold:\n",
    "            return next_guess # Return the approximated square root\n",
    "        \n",
    "        previous_guess = next_guess # Update the guess for the next iteration\n",
    "        \n",
    "x = 20.0\n",
    "result = sqrt(x)\n",
    "print(f\"Newtons Method: \\nSquare Root of {x} is {result}\")"
   ]
  },
  {
   "cell_type": "markdown",
   "id": "3c2c5809",
   "metadata": {},
   "source": [
    "### Comparison with Standard Package"
   ]
  },
  {
   "cell_type": "code",
   "execution_count": 2,
   "id": "55cca508",
   "metadata": {},
   "outputs": [
    {
     "name": "stdout",
     "output_type": "stream",
     "text": [
      "Package Method: \n",
      "Square Root of 20.0 is 4.47213595499958\n"
     ]
    }
   ],
   "source": [
    "import math\n",
    "\n",
    "def sqrt(x):\n",
    "    result = math.sqrt(x)\n",
    "    return result\n",
    "\n",
    "# Test with same example\n",
    "x = 20.0\n",
    "result = sqrt(x)\n",
    "print(f\"Package Method: \\nSquare Root of {x} is {result}\")"
   ]
  },
  {
   "cell_type": "markdown",
   "id": "358d0241",
   "metadata": {},
   "source": [
    "### Conclusion\n",
    "\n",
    "After applying both Newton's Method and the standard Python `math.sqrt` function, we can observe that the results are very similar. This demonstrates the effectiveness of Newton's Method as a tool for approximating square roots."
   ]
  },
  {
   "cell_type": "markdown",
   "id": "637c359a",
   "metadata": {},
   "source": [
    "---\n",
    "\n",
    "## 3: Random 4-Bit Input to 1-Bit Output Function Evaluation\n",
    "\n",
    "This task involves creating a function that takes a 4-bit binary number as input and produces a single bit as output. To explore this, we generate a random function and then test this function with all possible 16 input combinations of 4-bit binary numbers. This approach allows us to understand the behavior of the random function across all possible inputs."
   ]
  },
  {
   "cell_type": "code",
   "execution_count": 4,
   "id": "6ba90067",
   "metadata": {},
   "outputs": [
    {
     "name": "stdout",
     "output_type": "stream",
     "text": [
      "Random Function Mapping:\n",
      "{0: 0, 1: 0, 2: 0, 3: 1, 4: 0, 5: 0, 6: 0, 7: 1, 8: 1, 9: 0, 10: 0, 11: 0, 12: 0, 13: 0, 14: 1, 15: 0}\n",
      "\n",
      "Testing the Random Function:\n",
      "Input: [0, 0, 0, 0] => Output: 0\n",
      "Input: [0, 0, 0, 1] => Output: 0\n",
      "Input: [0, 0, 1, 0] => Output: 0\n",
      "Input: [0, 0, 1, 1] => Output: 1\n",
      "Input: [0, 1, 0, 0] => Output: 0\n",
      "Input: [0, 1, 0, 1] => Output: 0\n",
      "Input: [0, 1, 1, 0] => Output: 0\n",
      "Input: [0, 1, 1, 1] => Output: 1\n",
      "Input: [1, 0, 0, 0] => Output: 1\n",
      "Input: [1, 0, 0, 1] => Output: 0\n",
      "Input: [1, 0, 1, 0] => Output: 0\n",
      "Input: [1, 0, 1, 1] => Output: 0\n",
      "Input: [1, 1, 0, 0] => Output: 0\n",
      "Input: [1, 1, 0, 1] => Output: 0\n",
      "Input: [1, 1, 1, 0] => Output: 1\n",
      "Input: [1, 1, 1, 1] => Output: 0\n"
     ]
    }
   ],
   "source": [
    "import random\n",
    "\n",
    "# Random 4-bit to 1-bit function\n",
    "random_function = [random.randint(0, 1) for _ in range(16)]\n",
    "\n",
    "# Display the generated random function for reference\n",
    "print(\"Random Function Mapping:\")\n",
    "print({i: output for i, output in enumerate(random_function)})\n",
    "\n",
    "# Apply the random function to inputs\n",
    "def apply_function(inputs):\n",
    "    index = int(''.join(map(str, inputs)), 2) # Convert the 4-bit input into an int to use as an index\n",
    "    return random_function[index]\n",
    "\n",
    "print(\"\\nTesting the Random Function:\")\n",
    "for i in range(16):\n",
    "    input = [int(bit) for bit in format(i, '04b')] # Convert the loop variable 'i' to a binary\n",
    "    output = apply_function(input)\n",
    "    print(f\"Input: {input} => Output: {output}\")"
   ]
  },
  {
   "cell_type": "markdown",
   "id": "70ef8773",
   "metadata": {},
   "source": [
    "### Conclusion\n",
    "\n",
    "After applying the random function to all 16 possible 4-bit inputs. Each input leads to a randomly determined output, showcasing the nature of our function."
   ]
  },
  {
   "cell_type": "markdown",
   "id": "b2ae5ccc",
   "metadata": {},
   "source": [
    "---\n",
    "\n",
    "## 4: Matrix Multiplication\n",
    "\n",
    "This task is to perform a matrix multiplication on two rectangle lists (matrices) containing floats."
   ]
  },
  {
   "cell_type": "code",
   "execution_count": 6,
   "id": "6d9fc3b4",
   "metadata": {},
   "outputs": [
    {
     "name": "stdout",
     "output_type": "stream",
     "text": [
      "Result of Matrix Multiplication:\n",
      "[[124.94, 64.41, 165.03], [109.47, 54.03, 128.22], [41.96, 37.74, 84.9]]\n"
     ]
    }
   ],
   "source": [
    "def matrix_multiply(matrix_a, matrix_b):\n",
    "    # Initialize the result matrix with zeros\n",
    "    result = [[0.0 for z in range(len(matrix_b[0]))] for y in range(len(matrix_a))]\n",
    "\n",
    "    # Perform matrix multiplication\n",
    "    for x in range(len(matrix_a)):\n",
    "        for y in range(len(matrix_b[0])):\n",
    "            for z in range(len(matrix_b)):\n",
    "                result[x][y] += matrix_a[x][z] * matrix_b[z][y]\n",
    "\n",
    "    return result\n",
    "\n",
    "# Define two matrices for multiplication\n",
    "matrix_a = [\n",
    "    [8.9, 3.2, 9.7],\n",
    "    [6.6, 5.8, 5.9],\n",
    "    [1.4, 2.4, 7.0]\n",
    "]\n",
    "\n",
    "matrix_b = [\n",
    "    [9.7, 1.8, 6.9],\n",
    "    [5.7, 3.3, 5.1],\n",
    "    [2.1, 3.9, 9.0]\n",
    "]\n",
    "\n",
    "print(\"Result of Matrix Multiplication:\")\n",
    "result = matrix_multiply(matrix_a, matrix_b)\n",
    "print(result)"
   ]
  },
  {
   "cell_type": "markdown",
   "id": "aa2c1963",
   "metadata": {},
   "source": [
    "### Conclusion\n",
    "\n",
    "The output of the matrix multiplication is a new matrix where each element represents the dot product of the rows of the first matrix and the columns of the second matrix. This operation is crucial in many fields, including computer graphics, physics simulations, and data science for tasks like transforming coordinates, simulating systems, and working with datasets.\n"
   ]
  }
 ],
 "metadata": {
  "kernelspec": {
   "display_name": "Python 3 (ipykernel)",
   "language": "python",
   "name": "python3"
  },
  "language_info": {
   "codemirror_mode": {
    "name": "ipython",
    "version": 3
   },
   "file_extension": ".py",
   "mimetype": "text/x-python",
   "name": "python",
   "nbconvert_exporter": "python",
   "pygments_lexer": "ipython3",
   "version": "3.9.7"
  }
 },
 "nbformat": 4,
 "nbformat_minor": 5
}
